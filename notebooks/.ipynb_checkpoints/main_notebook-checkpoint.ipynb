{
 "cells": [
  {
   "cell_type": "code",
   "execution_count": 1,
   "id": "d02bfc6d",
   "metadata": {},
   "outputs": [
    {
     "data": {
      "text/html": [
       "<div>\n",
       "<style scoped>\n",
       "    .dataframe tbody tr th:only-of-type {\n",
       "        vertical-align: middle;\n",
       "    }\n",
       "\n",
       "    .dataframe tbody tr th {\n",
       "        vertical-align: top;\n",
       "    }\n",
       "\n",
       "    .dataframe thead th {\n",
       "        text-align: right;\n",
       "    }\n",
       "</style>\n",
       "<table border=\"1\" class=\"dataframe\">\n",
       "  <thead>\n",
       "    <tr style=\"text-align: right;\">\n",
       "      <th></th>\n",
       "      <th>Nome</th>\n",
       "      <th>Endereço</th>\n",
       "      <th>CPF</th>\n",
       "      <th>Interesses</th>\n",
       "      <th>Eventos</th>\n",
       "      <th>Compras</th>\n",
       "    </tr>\n",
       "  </thead>\n",
       "  <tbody>\n",
       "    <tr>\n",
       "      <th>0</th>\n",
       "      <td>Eduardo</td>\n",
       "      <td>Ataliba Leonel</td>\n",
       "      <td>42277731803</td>\n",
       "      <td>Gosto de acompanhar o time de CS da FURIA</td>\n",
       "      <td>Nenhum</td>\n",
       "      <td>3 Camisas da FURIA</td>\n",
       "    </tr>\n",
       "  </tbody>\n",
       "</table>\n",
       "</div>"
      ],
      "text/plain": [
       "      Nome        Endereço          CPF  \\\n",
       "0  Eduardo  Ataliba Leonel  42277731803   \n",
       "\n",
       "                                  Interesses Eventos              Compras  \n",
       "0  Gosto de acompanhar o time de CS da FURIA  Nenhum  3 Camisas da FURIA   "
      ]
     },
     "execution_count": 1,
     "metadata": {},
     "output_type": "execute_result"
    }
   ],
   "source": [
    "import pandas as pd\n",
    "\n",
    "def coletar_dados_basicos():\n",
    "    \"\"\"\n",
    "    Função para coletar dados básicos do usuário.\n",
    "    \"\"\"\n",
    "    nome = input(\"Digite seu nome: \")\n",
    "    endereco = input(\"Digite seu endereço: \")\n",
    "    cpf = input(\"Digite seu CPF: \")\n",
    "    interesses = input(\"Quais seus interesses em e-sports? \")\n",
    "    eventos = input(\"Quais eventos de e-sports você participou no último ano? \")\n",
    "    compras = input(\"Quais compras relacionadas a e-sports você fez no último ano? \")\n",
    "    \n",
    "    # Organizar os dados coletados em um dicionário\n",
    "    dados_usuario = {\n",
    "        \"Nome\": nome,\n",
    "        \"Endereço\": endereco,\n",
    "        \"CPF\": cpf,\n",
    "        \"Interesses\": interesses,\n",
    "        \"Eventos\": eventos,\n",
    "        \"Compras\": compras\n",
    "    }\n",
    "    \n",
    "    # Converter para um DataFrame para facilitar a visualização e posterior uso\n",
    "    df_usuario = pd.DataFrame([dados_usuario])\n",
    "    return df_usuario\n",
    "\n",
    "df_usuario = coletar_dados_basicos()\n",
    "df_usuario\n"
   ]
  }
 ],
 "metadata": {
  "kernelspec": {
   "display_name": "Python 3 (ipykernel)",
   "language": "python",
   "name": "python3"
  },
  "language_info": {
   "codemirror_mode": {
    "name": "ipython",
    "version": 3
   },
   "file_extension": ".py",
   "mimetype": "text/x-python",
   "name": "python",
   "nbconvert_exporter": "python",
   "pygments_lexer": "ipython3",
   "version": "3.9.13"
  }
 },
 "nbformat": 4,
 "nbformat_minor": 5
}
