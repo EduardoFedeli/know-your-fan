{
 "cells": [
  {
   "cell_type": "code",
   "execution_count": null,
   "id": "d02bfc6d",
   "metadata": {
    "vscode": {
     "languageId": "plaintext"
    }
   },
   "outputs": [],
   "source": [
    "import pandas as pd\n",
    "\n",
    "def coletar_dados_basicos():\n",
    "    \"\"\"\n",
    "    Função para coletar dados básicos do usuário.\n",
    "    \"\"\"\n",
    "    nome = input(\"Digite seu nome: \")\n",
    "    endereco = input(\"Digite seu endereço: \")\n",
    "    cpf = input(\"Digite seu CPF: \")\n",
    "    interesses = input(\"Quais seus interesses em e-sports? \")\n",
    "    eventos = input(\"Quais eventos de e-sports você participou no último ano? \")\n",
    "    compras = input(\"Quais compras relacionadas a e-sports você fez no último ano? \")\n",
    "    \n",
    "    # Organizar os dados coletados em um dicionário\n",
    "    dados_usuario = {\n",
    "        \"Nome\": nome,\n",
    "        \"Endereço\": endereco,\n",
    "        \"CPF\": cpf,\n",
    "        \"Interesses\": interesses,\n",
    "        \"Eventos\": eventos,\n",
    "        \"Compras\": compras\n",
    "    }\n",
    "    \n",
    "    # Converter para um DataFrame para facilitar a visualização e posterior uso\n",
    "    df_usuario = pd.DataFrame([dados_usuario])\n",
    "    return df_usuario\n",
    "\n",
    "df_usuario = coletar_dados_basicos()\n",
    "df_usuario\n"
   ]
  }
 ],
 "metadata": {
  "language_info": {
   "name": "python"
  }
 },
 "nbformat": 4,
 "nbformat_minor": 5
}
